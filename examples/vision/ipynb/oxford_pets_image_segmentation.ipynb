{
  "cells": [
    {
      "cell_type": "markdown",
      "metadata": {
        "id": "view-in-github",
        "colab_type": "text"
      },
      "source": [
        "<a href=\"https://colab.research.google.com/github/yolchu4/keras-io/blob/master/examples/vision/ipynb/oxford_pets_image_segmentation.ipynb\" target=\"_parent\"><img src=\"https://colab.research.google.com/assets/colab-badge.svg\" alt=\"Open In Colab\"/></a>"
      ]
    },
    {
      "cell_type": "markdown",
      "metadata": {
        "id": "3cx0WBpHDRHu"
      },
      "source": [
        "# [KerasCV] Image segmentation with a U-Net-like architecture\n",
        "\n",
        "**Author:** [fchollet](https://twitter.com/fchollet), updated by [Aritra Roy Gosthipaty](https://twitter.com/ariG23498) and [Margaret Maynard-Reid](https://twitter.com/margaretmz)<br>\n",
        "**Date created:** 2019/03/20<br>\n",
        "**Last modified:** 2023/06/19<br>\n",
        "**Description:** Image segmentation model trained from scratch on the Oxford Pets dataset."
      ]
    },
    {
      "cell_type": "markdown",
      "metadata": {
        "id": "otWz5IKnDRH0"
      },
      "source": [
        "This tutorial uses a U-Net like architecture for image segmentation. Data processing and\n",
        "augmentations are implemented with [KerasCV](https://keras.io/keras_cv/).\n",
        "\n",
        "U-Net was introduced in the paper,\n",
        "[U-Net: Convolutional Networks for Biomedical Image Segmentation](https://arxiv.org/abs/1505.04597/).\n",
        "Although U-Net is a model for image\n",
        "segmentation, it's also used in generative models such as Pix2Pix and diffusion models.\n",
        "So it's important to have a solid understanding of its architecture."
      ]
    },
    {
      "cell_type": "markdown",
      "metadata": {
        "id": "INeyH2xDDRH1"
      },
      "source": [
        "## Setup and Imports\n",
        "\n",
        "First let's set up install and imports of the dependencies.\n",
        "\n",
        "To run this tutorial, you will need to install keras-cv with the following command:\n",
        "`pip install keras-cv`"
      ]
    },
    {
      "cell_type": "code",
      "execution_count": null,
      "metadata": {
        "id": "oFa-u-BCDRH1"
      },
      "outputs": [],
      "source": [
        "import random\n",
        "\n",
        "import keras\n",
        "import keras_cv\n",
        "import numpy as np\n",
        "import tensorflow as tf\n",
        "import tensorflow_datasets as tfds\n",
        "from matplotlib import pyplot as plt"
      ]
    },
    {
      "cell_type": "markdown",
      "metadata": {
        "id": "y2Zm9nE9DRH3"
      },
      "source": [
        "## Configuration\n",
        "\n",
        "Please feel free to tweak the configurations yourself and note how the model training\n",
        "changes. This is an excellent exercise to get a better understanding of the training\n",
        "pipeline."
      ]
    },
    {
      "cell_type": "code",
      "execution_count": null,
      "metadata": {
        "id": "7MvgBEp_DRH4"
      },
      "outputs": [],
      "source": [
        "# Image Config\n",
        "HEIGHT = 160\n",
        "WIDTH = 160\n",
        "NUM_CLASSES = 3\n",
        "\n",
        "# Augmentation Config\n",
        "ROTATION_FACTOR = (-0.2, 0.2)\n",
        "\n",
        "# Training Config\n",
        "BATCH_SIZE = 128\n",
        "EPOCHS = 50\n",
        "LEARNING_RATE = 1e-4\n",
        "AUTOTUNE = tf.data.AUTOTUNE"
      ]
    },
    {
      "cell_type": "markdown",
      "metadata": {
        "id": "6AycuKoxDRH4"
      },
      "source": [
        "## Download the data\n",
        "\n",
        "We download\n",
        "[the Oxford-IIT Pet dataset](https://www.tensorflow.org/datasets/catalog/oxford_iiit_pet)\n",
        "with TensorFlow\n",
        "Datasets (TFDS) with one line of code. Combine the training and test data, and then split\n",
        "the combined data into 80% training dataset and 20% test dataset (used later on for both\n",
        "validation and testing)."
      ]
    },
    {
      "cell_type": "code",
      "execution_count": null,
      "metadata": {
        "id": "zpOZPRrcDRH5"
      },
      "outputs": [],
      "source": [
        "tfds.disable_progress_bar()\n",
        "orig_train_ds, orig_val_ds = tfds.load(\n",
        "    name=\"oxford_iiit_pet\",\n",
        "    split=[\"train+test[:80%]\", \"test[80%:]\"],\n",
        ")"
      ]
    },
    {
      "cell_type": "markdown",
      "metadata": {
        "id": "CoubnSDGDRH5"
      },
      "source": [
        "## Preprocess the data\n",
        "\n",
        "Here we processes the images and segmentation masks in the inputs **dictionary**, mapping\n",
        "the image pixel intensities from `[0, 255]` to the range `[0.0, 1.0]` and adjusting\n",
        "segmentation masks indices from 1-based to 0-based.\n",
        "\n",
        "Also note the renaming of the keys of the dictionary. The processed datasets are\n",
        "formatted suitably for KerasCV layers, which expect inputs in a specific dictionary\n",
        "format."
      ]
    },
    {
      "cell_type": "code",
      "execution_count": null,
      "metadata": {
        "id": "xxx_mNRjDRH6"
      },
      "outputs": [],
      "source": [
        "rescale_images_and_correct_masks = lambda inputs: {\n",
        "    \"images\": tf.cast(inputs[\"image\"], dtype=tf.float32) / 255.0,\n",
        "    \"segmentation_masks\": inputs[\"segmentation_mask\"] - 1,\n",
        "}\n",
        "\n",
        "train_ds = orig_train_ds.map(\n",
        "    rescale_images_and_correct_masks, num_parallel_calls=AUTOTUNE\n",
        ")\n",
        "val_ds = orig_val_ds.map(rescale_images_and_correct_masks, num_parallel_calls=AUTOTUNE)"
      ]
    },
    {
      "cell_type": "markdown",
      "metadata": {
        "id": "5iprwjzuDRH6"
      },
      "source": [
        "## Utility Function\n",
        "\n",
        "The `unpackage_inputs` is a utility function that is used to unpack the inputs from the\n",
        "dictionary format to a tuple of `(images, segmentation_masks)`. This will be used later\n",
        "on for visualizing the images and segmentation masks and also the model predictions."
      ]
    },
    {
      "cell_type": "code",
      "execution_count": null,
      "metadata": {
        "id": "Q-P9VVcADRH6"
      },
      "outputs": [],
      "source": [
        "\n",
        "def unpackage_inputs(inputs):\n",
        "    images = inputs[\"images\"]\n",
        "    segmentation_masks = inputs[\"segmentation_masks\"]\n",
        "    return images, segmentation_masks\n"
      ]
    },
    {
      "cell_type": "markdown",
      "metadata": {
        "id": "CVjp6pAjDRH7"
      },
      "source": [
        "Let's visualized a few images and their segmentation masks from the training data, with\n",
        "the `keras_cv.visualization.plot_segmentation_mask_gallery` API."
      ]
    },
    {
      "cell_type": "code",
      "execution_count": null,
      "metadata": {
        "id": "mEkzrom9DRH7"
      },
      "outputs": [],
      "source": [
        "plot_train_ds = train_ds.map(unpackage_inputs).ragged_batch(4)\n",
        "images, segmentation_masks = next(iter(plot_train_ds.take(1)))\n",
        "\n",
        "keras_cv.visualization.plot_segmentation_mask_gallery(\n",
        "    images,\n",
        "    value_range=(0, 1),\n",
        "    num_classes=3,\n",
        "    y_true=segmentation_masks,\n",
        "    y_pred=None,\n",
        "    scale=4,\n",
        "    rows=2,\n",
        "    cols=2,\n",
        ")"
      ]
    },
    {
      "cell_type": "markdown",
      "metadata": {
        "id": "1KLnOISiDRH7"
      },
      "source": [
        "## Data Augmentation\n",
        "\n",
        "We resize both the images and masks to the width/height as specified. Then use KerasCV's\n",
        "`RandomFlip`, `RandomRotation` and `RandAugment` to apply image augmentation of random\n",
        "flip, random rotation and RandAugment to the train dataset. Here is\n",
        "[a tutorial with more details on RandAugment](https://keras.io/examples/vision/randaugment/).\n",
        "\n",
        "We only apply the resizing operation to the validation dataset"
      ]
    },
    {
      "cell_type": "code",
      "execution_count": null,
      "metadata": {
        "id": "p-6PlGi_DRH7"
      },
      "outputs": [],
      "source": [
        "resize_fn = keras_cv.layers.Resizing(\n",
        "    HEIGHT,\n",
        "    WIDTH,\n",
        ")\n",
        "\n",
        "augment_fn = keras.Sequential(\n",
        "    [\n",
        "        resize_fn,\n",
        "        keras_cv.layers.RandomFlip(),\n",
        "        keras_cv.layers.RandomRotation(\n",
        "            factor=ROTATION_FACTOR,\n",
        "            segmentation_classes=NUM_CLASSES,\n",
        "        ),\n",
        "        keras_cv.layers.RandAugment(\n",
        "            value_range=(0, 1),\n",
        "            geometric=False,\n",
        "        ),\n",
        "    ]\n",
        ")"
      ]
    },
    {
      "cell_type": "markdown",
      "metadata": {
        "id": "-v_qAgIsDRH8"
      },
      "source": [
        "Create training and validation datasets."
      ]
    },
    {
      "cell_type": "code",
      "execution_count": null,
      "metadata": {
        "id": "ev7urIV5DRH8"
      },
      "outputs": [],
      "source": [
        "augmented_train_ds = (\n",
        "    train_ds.shuffle(BATCH_SIZE * 2)\n",
        "    .map(augment_fn, num_parallel_calls=AUTOTUNE)\n",
        "    .batch(BATCH_SIZE)\n",
        "    .map(unpackage_inputs)\n",
        "    .prefetch(buffer_size=tf.data.AUTOTUNE)\n",
        ")\n",
        "resized_val_ds = (\n",
        "    val_ds.map(resize_fn, num_parallel_calls=AUTOTUNE)\n",
        "    .batch(BATCH_SIZE)\n",
        "    .map(unpackage_inputs)\n",
        "    .prefetch(buffer_size=tf.data.AUTOTUNE)\n",
        ")"
      ]
    },
    {
      "cell_type": "markdown",
      "metadata": {
        "id": "JXdwk8J1DRH8"
      },
      "source": [
        "## Visualize the data\n",
        "\n",
        "Now let's again visualize a few of the images and their segmentation masks with the\n",
        "`keras_cv.visualization.plot_segmentation_mask_gallery` API. Note the effects from the\n",
        "data augmentation."
      ]
    },
    {
      "cell_type": "code",
      "execution_count": null,
      "metadata": {
        "id": "NKFFdNDqDRH8"
      },
      "outputs": [],
      "source": [
        "images, segmentation_masks = next(iter(augmented_train_ds.take(1)))\n",
        "\n",
        "keras_cv.visualization.plot_segmentation_mask_gallery(\n",
        "    images,\n",
        "    value_range=(0, 1),\n",
        "    num_classes=3,\n",
        "    y_true=segmentation_masks,\n",
        "    y_pred=None,\n",
        "    scale=4,\n",
        "    rows=2,\n",
        "    cols=2,\n",
        ")"
      ]
    },
    {
      "cell_type": "markdown",
      "metadata": {
        "id": "MAvXZ-IlDRH8"
      },
      "source": [
        "## Model architecture\n",
        "\n",
        "The U-Net consists of an encoder for downsampling and a decoder for upsampling with skip\n",
        "connections.\n",
        "\n",
        "The model architecture shapes like the letter U hence the name U-Net.\n",
        "\n",
        "![unet.png](https://i.imgur.com/PgGRty2.png)\n",
        "\n",
        "We create a function `get_model` to define a U-Net like architecture."
      ]
    },
    {
      "cell_type": "code",
      "execution_count": null,
      "metadata": {
        "id": "kPv2Z3gyDRH9"
      },
      "outputs": [],
      "source": [
        "\n",
        "def get_model(img_size, num_classes):\n",
        "    inputs = keras.Input(shape=img_size + (3,))\n",
        "\n",
        "    ### [First half of the network: downsampling inputs] ###\n",
        "\n",
        "    # Entry block\n",
        "    x = keras.layers.Conv2D(32, 3, strides=2, padding=\"same\")(inputs)\n",
        "    x = keras.layers.BatchNormalization()(x)\n",
        "    x = keras.layers.Activation(\"relu\")(x)\n",
        "\n",
        "    previous_block_activation = x  # Set aside residual\n",
        "\n",
        "    # Blocks 1, 2, 3 are identical apart from the feature depth.\n",
        "    for filters in [64, 128, 256]:\n",
        "        x = keras.layers.Activation(\"relu\")(x)\n",
        "        x = keras.layers.SeparableConv2D(filters, 3, padding=\"same\")(x)\n",
        "        x = keras.layers.BatchNormalization()(x)\n",
        "\n",
        "        x = keras.layers.Activation(\"relu\")(x)\n",
        "        x = keras.layers.SeparableConv2D(filters, 3, padding=\"same\")(x)\n",
        "        x = keras.layers.BatchNormalization()(x)\n",
        "\n",
        "        x = keras.layers.MaxPooling2D(3, strides=2, padding=\"same\")(x)\n",
        "\n",
        "        # Project residual\n",
        "        residual = keras.layers.Conv2D(filters, 1, strides=2, padding=\"same\")(\n",
        "            previous_block_activation\n",
        "        )\n",
        "        x = keras.layers.add([x, residual])  # Add back residual\n",
        "        previous_block_activation = x  # Set aside next residual\n",
        "\n",
        "    ### [Second half of the network: upsampling inputs] ###\n",
        "\n",
        "    for filters in [256, 128, 64, 32]:\n",
        "        x = keras.layers.Activation(\"relu\")(x)\n",
        "        x = keras.layers.Conv2DTranspose(filters, 3, padding=\"same\")(x)\n",
        "        x = keras.layers.BatchNormalization()(x)\n",
        "\n",
        "        x = keras.layers.Activation(\"relu\")(x)\n",
        "        x = keras.layers.Conv2DTranspose(filters, 3, padding=\"same\")(x)\n",
        "        x = keras.layers.BatchNormalization()(x)\n",
        "\n",
        "        x = keras.layers.UpSampling2D(2)(x)\n",
        "\n",
        "        # Project residual\n",
        "        residual = keras.layers.UpSampling2D(2)(previous_block_activation)\n",
        "        residual = keras.layers.Conv2D(filters, 1, padding=\"same\")(residual)\n",
        "        x = keras.layers.add([x, residual])  # Add back residual\n",
        "        previous_block_activation = x  # Set aside next residual\n",
        "\n",
        "    # Add a per-pixel classification layer\n",
        "    outputs = keras.layers.Conv2D(num_classes, 3, activation=\"softmax\", padding=\"same\")(\n",
        "        x\n",
        "    )\n",
        "\n",
        "    # Define the model\n",
        "    model = keras.Model(inputs, outputs)\n",
        "    return model\n",
        "\n",
        "\n",
        "# Taking a batch of test inputs to measure model's progress.\n",
        "test_images, test_masks = next(iter(resized_val_ds))\n"
      ]
    },
    {
      "cell_type": "markdown",
      "metadata": {
        "id": "Tp8q3qJcDRH9"
      },
      "source": [
        "We subclass `Callback` to monitor the model training progress: training and validation\n",
        "loss, and visually inspect the images, predicted masks and ground truth masks."
      ]
    },
    {
      "cell_type": "code",
      "execution_count": null,
      "metadata": {
        "id": "U9qfLAPqDRH9"
      },
      "outputs": [],
      "source": [
        "\n",
        "class DisplayCallback(keras.callbacks.Callback):\n",
        "    def __init__(self, epoch_interval=None):\n",
        "        self.epoch_interval = epoch_interval\n",
        "\n",
        "    def on_epoch_end(self, epoch, logs=None):\n",
        "        if self.epoch_interval and epoch % self.epoch_interval == 0:\n",
        "            pred_masks = self.model.predict(test_images)\n",
        "            pred_masks = tf.math.argmax(pred_masks, axis=-1)\n",
        "            pred_masks = pred_masks[..., tf.newaxis]\n",
        "\n",
        "            # Randomly select an image from the test batch\n",
        "            random_index = random.randint(0, BATCH_SIZE - 1)\n",
        "            random_image = test_images[random_index]\n",
        "            random_pred_mask = pred_masks[random_index]\n",
        "            random_true_mask = test_masks[random_index]\n",
        "\n",
        "            fig, ax = plt.subplots(nrows=1, ncols=3, figsize=(10, 5))\n",
        "            ax[0].imshow(random_image)\n",
        "            ax[0].set_title(f\"Image: {epoch:03d}\")\n",
        "\n",
        "            ax[1].imshow(random_true_mask)\n",
        "            ax[1].set_title(f\"Ground Truth Mask: {epoch:03d}\")\n",
        "\n",
        "            ax[2].imshow(random_pred_mask)\n",
        "            ax[2].set_title(\n",
        "                f\"Predicted Mask: {epoch:03d}\",\n",
        "            )\n",
        "\n",
        "            plt.show()\n",
        "            plt.close()\n",
        "\n",
        "\n",
        "callbacks = [DisplayCallback(5)]"
      ]
    },
    {
      "cell_type": "markdown",
      "metadata": {
        "id": "tYv_4ixUDRH-"
      },
      "source": [
        "## Train the model\n",
        "\n",
        "Now let's create the model, compile and train it for 50 epochs by calling `model.fit()`."
      ]
    },
    {
      "cell_type": "code",
      "execution_count": null,
      "metadata": {
        "id": "uE9O6LsTDRH-"
      },
      "outputs": [],
      "source": [
        "# Build model\n",
        "model = get_model(img_size=(HEIGHT, WIDTH), num_classes=NUM_CLASSES)\n",
        "\n",
        "model.compile(\n",
        "    optimizer=keras.optimizers.Adam(LEARNING_RATE),\n",
        "    loss=\"sparse_categorical_crossentropy\",\n",
        "    metrics=[\"accuracy\"],\n",
        ")\n",
        "\n",
        "# Train the model, doing validation at the end of each epoch.\n",
        "history = model.fit(\n",
        "    augmented_train_ds,\n",
        "    epochs=EPOCHS,\n",
        "    validation_data=resized_val_ds,\n",
        "    callbacks=callbacks,\n",
        ")"
      ]
    },
    {
      "cell_type": "markdown",
      "metadata": {
        "id": "MGKZkCunDRH-"
      },
      "source": [
        "## Prediction with trained model\n",
        "Now that the model training of U-Net has completed, let's test it by making predications\n",
        "on a few sample images."
      ]
    },
    {
      "cell_type": "code",
      "execution_count": null,
      "metadata": {
        "id": "YQfpKsdEDRH-"
      },
      "outputs": [],
      "source": [
        "pred_masks = model.predict(test_images)\n",
        "pred_masks = tf.math.argmax(pred_masks, axis=-1)[..., None]\n",
        "\n",
        "keras_cv.visualization.plot_segmentation_mask_gallery(\n",
        "    test_images,\n",
        "    value_range=(0, 1),\n",
        "    num_classes=3,\n",
        "    y_true=test_masks,\n",
        "    y_pred=pred_masks,\n",
        "    scale=4,\n",
        "    rows=2,\n",
        "    cols=2,\n",
        ")"
      ]
    },
    {
      "cell_type": "markdown",
      "metadata": {
        "id": "WlRk6R6MDRH-"
      },
      "source": [
        "## Acknowledgements\n",
        "\n",
        "We would like to thank [Martin Gorner](https://twitter.com/martin_gorner) for his thorough review.\n",
        "Google Cloud credits were provided for this project."
      ]
    }
  ],
  "metadata": {
    "accelerator": "GPU",
    "colab": {
      "name": "oxford_pets_image_segmentation",
      "provenance": [],
      "toc_visible": true,
      "include_colab_link": true
    },
    "kernelspec": {
      "display_name": "Python 3",
      "language": "python",
      "name": "python3"
    },
    "language_info": {
      "codemirror_mode": {
        "name": "ipython",
        "version": 3
      },
      "file_extension": ".py",
      "mimetype": "text/x-python",
      "name": "python",
      "nbconvert_exporter": "python",
      "pygments_lexer": "ipython3",
      "version": "3.7.0"
    }
  },
  "nbformat": 4,
  "nbformat_minor": 0
}